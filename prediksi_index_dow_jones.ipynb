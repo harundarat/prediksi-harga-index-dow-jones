{
  "cells": [
    {
      "cell_type": "markdown",
      "metadata": {
        "id": "ixfGjgkzyVQ4"
      },
      "source": [
        "# Mengambil Data Harga Index Dow Jones dari Yahoo Finance"
      ]
    },
    {
      "cell_type": "markdown",
      "metadata": {
        "id": "8QngiyfpyieF"
      },
      "source": [
        "Pertama-tama, kita perlu mengambil data harga Dow Jones dari API Yahoo Finance. Kita dapat menggunakan library yfinance di Python untuk melakukan ini."
      ]
    },
    {
      "cell_type": "code",
      "execution_count": 1,
      "metadata": {
        "colab": {
          "base_uri": "https://localhost:8080/"
        },
        "id": "frFWsiXLxmJj",
        "outputId": "993fe39d-39d4-4f39-d1bc-4df33375c7a9"
      },
      "outputs": [
        {
          "output_type": "stream",
          "name": "stdout",
          "text": [
            "\r[*********************100%***********************]  1 of 1 completed\n"
          ]
        }
      ],
      "source": [
        "import yfinance as yf\n",
        "\n",
        "dowjones_data = yf.download(\"DJI\", start = \"2009-03-06\", end=\"2023-07-16\")"
      ]
    },
    {
      "cell_type": "markdown",
      "metadata": {
        "id": "VkxqqKYayozU"
      },
      "source": [
        "# Mengekstrak Fitur (tanggal) dan Target (Harga)"
      ]
    },
    {
      "cell_type": "markdown",
      "metadata": {
        "id": "8e0ccCQ2yzTg"
      },
      "source": [
        "Setelah kita mendapatkan data harga Dow Jones, kita perlu menyiapkan data tersebut dengan mengambil fitur dan target yang akan digunakan untuk membangun model prediksi."
      ]
    },
    {
      "cell_type": "code",
      "execution_count": 2,
      "metadata": {
        "id": "eDOjD1BLyogC"
      },
      "outputs": [],
      "source": [
        "import pandas as pd\n",
        "\n",
        "X = dowjones_data.reset_index()[\"Date\"].apply(lambda x: int(x.strftime('%Y%m%d'))).values.reshape(-1, 1)\n",
        "y = dowjones_data[\"Close\"].values"
      ]
    },
    {
      "cell_type": "markdown",
      "metadata": {
        "id": "odpWW8yozlcW"
      },
      "source": [
        "# Membagi Data Menjadi Data Latih dan Data Uji"
      ]
    },
    {
      "cell_type": "markdown",
      "metadata": {
        "id": "9dE77psaz0Y0"
      },
      "source": [
        "Perbandingan 80:20"
      ]
    },
    {
      "cell_type": "markdown",
      "metadata": {
        "id": "7XBT5Ok3z4NX"
      },
      "source": [
        "Selanjutnya, kita perlu membagi data menjadi data latih dan data uji. Kita dapat menggunakan library scikit-learn di Python untuk melakukan hal ini."
      ]
    },
    {
      "cell_type": "code",
      "execution_count": 3,
      "metadata": {
        "id": "sjs4b3JPyMyJ"
      },
      "outputs": [],
      "source": [
        "from sklearn.model_selection import train_test_split\n",
        "\n",
        "X_train, X_test,y_train, y_test = train_test_split(X, y, test_size=0.2, random_state=0)"
      ]
    },
    {
      "cell_type": "markdown",
      "metadata": {
        "id": "6A3Wfuwm0YQD"
      },
      "source": [
        "# Membangun Model Simple Linear Regression"
      ]
    },
    {
      "cell_type": "code",
      "execution_count": 4,
      "metadata": {
        "colab": {
          "base_uri": "https://localhost:8080/",
          "height": 75
        },
        "id": "4TGLu4tZ0Xr0",
        "outputId": "78705e4e-33de-4360-b3d7-3dcd8ace8d52"
      },
      "outputs": [
        {
          "output_type": "execute_result",
          "data": {
            "text/plain": [
              "LinearRegression()"
            ],
            "text/html": [
              "<style>#sk-container-id-1 {color: black;background-color: white;}#sk-container-id-1 pre{padding: 0;}#sk-container-id-1 div.sk-toggleable {background-color: white;}#sk-container-id-1 label.sk-toggleable__label {cursor: pointer;display: block;width: 100%;margin-bottom: 0;padding: 0.3em;box-sizing: border-box;text-align: center;}#sk-container-id-1 label.sk-toggleable__label-arrow:before {content: \"▸\";float: left;margin-right: 0.25em;color: #696969;}#sk-container-id-1 label.sk-toggleable__label-arrow:hover:before {color: black;}#sk-container-id-1 div.sk-estimator:hover label.sk-toggleable__label-arrow:before {color: black;}#sk-container-id-1 div.sk-toggleable__content {max-height: 0;max-width: 0;overflow: hidden;text-align: left;background-color: #f0f8ff;}#sk-container-id-1 div.sk-toggleable__content pre {margin: 0.2em;color: black;border-radius: 0.25em;background-color: #f0f8ff;}#sk-container-id-1 input.sk-toggleable__control:checked~div.sk-toggleable__content {max-height: 200px;max-width: 100%;overflow: auto;}#sk-container-id-1 input.sk-toggleable__control:checked~label.sk-toggleable__label-arrow:before {content: \"▾\";}#sk-container-id-1 div.sk-estimator input.sk-toggleable__control:checked~label.sk-toggleable__label {background-color: #d4ebff;}#sk-container-id-1 div.sk-label input.sk-toggleable__control:checked~label.sk-toggleable__label {background-color: #d4ebff;}#sk-container-id-1 input.sk-hidden--visually {border: 0;clip: rect(1px 1px 1px 1px);clip: rect(1px, 1px, 1px, 1px);height: 1px;margin: -1px;overflow: hidden;padding: 0;position: absolute;width: 1px;}#sk-container-id-1 div.sk-estimator {font-family: monospace;background-color: #f0f8ff;border: 1px dotted black;border-radius: 0.25em;box-sizing: border-box;margin-bottom: 0.5em;}#sk-container-id-1 div.sk-estimator:hover {background-color: #d4ebff;}#sk-container-id-1 div.sk-parallel-item::after {content: \"\";width: 100%;border-bottom: 1px solid gray;flex-grow: 1;}#sk-container-id-1 div.sk-label:hover label.sk-toggleable__label {background-color: #d4ebff;}#sk-container-id-1 div.sk-serial::before {content: \"\";position: absolute;border-left: 1px solid gray;box-sizing: border-box;top: 0;bottom: 0;left: 50%;z-index: 0;}#sk-container-id-1 div.sk-serial {display: flex;flex-direction: column;align-items: center;background-color: white;padding-right: 0.2em;padding-left: 0.2em;position: relative;}#sk-container-id-1 div.sk-item {position: relative;z-index: 1;}#sk-container-id-1 div.sk-parallel {display: flex;align-items: stretch;justify-content: center;background-color: white;position: relative;}#sk-container-id-1 div.sk-item::before, #sk-container-id-1 div.sk-parallel-item::before {content: \"\";position: absolute;border-left: 1px solid gray;box-sizing: border-box;top: 0;bottom: 0;left: 50%;z-index: -1;}#sk-container-id-1 div.sk-parallel-item {display: flex;flex-direction: column;z-index: 1;position: relative;background-color: white;}#sk-container-id-1 div.sk-parallel-item:first-child::after {align-self: flex-end;width: 50%;}#sk-container-id-1 div.sk-parallel-item:last-child::after {align-self: flex-start;width: 50%;}#sk-container-id-1 div.sk-parallel-item:only-child::after {width: 0;}#sk-container-id-1 div.sk-dashed-wrapped {border: 1px dashed gray;margin: 0 0.4em 0.5em 0.4em;box-sizing: border-box;padding-bottom: 0.4em;background-color: white;}#sk-container-id-1 div.sk-label label {font-family: monospace;font-weight: bold;display: inline-block;line-height: 1.2em;}#sk-container-id-1 div.sk-label-container {text-align: center;}#sk-container-id-1 div.sk-container {/* jupyter's `normalize.less` sets `[hidden] { display: none; }` but bootstrap.min.css set `[hidden] { display: none !important; }` so we also need the `!important` here to be able to override the default hidden behavior on the sphinx rendered scikit-learn.org. See: https://github.com/scikit-learn/scikit-learn/issues/21755 */display: inline-block !important;position: relative;}#sk-container-id-1 div.sk-text-repr-fallback {display: none;}</style><div id=\"sk-container-id-1\" class=\"sk-top-container\"><div class=\"sk-text-repr-fallback\"><pre>LinearRegression()</pre><b>In a Jupyter environment, please rerun this cell to show the HTML representation or trust the notebook. <br />On GitHub, the HTML representation is unable to render, please try loading this page with nbviewer.org.</b></div><div class=\"sk-container\" hidden><div class=\"sk-item\"><div class=\"sk-estimator sk-toggleable\"><input class=\"sk-toggleable__control sk-hidden--visually\" id=\"sk-estimator-id-1\" type=\"checkbox\" checked><label for=\"sk-estimator-id-1\" class=\"sk-toggleable__label sk-toggleable__label-arrow\">LinearRegression</label><div class=\"sk-toggleable__content\"><pre>LinearRegression()</pre></div></div></div></div></div>"
            ]
          },
          "metadata": {},
          "execution_count": 4
        }
      ],
      "source": [
        "from sklearn.linear_model import LinearRegression\n",
        "\n",
        "regressor = LinearRegression()\n",
        "regressor.fit(X_train, y_train)"
      ]
    },
    {
      "cell_type": "markdown",
      "metadata": {
        "id": "XYjzg_ug1b1g"
      },
      "source": [
        "# Membuat Prediksi"
      ]
    },
    {
      "cell_type": "code",
      "execution_count": 5,
      "metadata": {
        "colab": {
          "base_uri": "https://localhost:8080/"
        },
        "id": "M7lLGSur0Rlk",
        "outputId": "6d17d336-f593-4a32-83c1-8b39e5453a94"
      },
      "outputs": [
        {
          "output_type": "stream",
          "name": "stdout",
          "text": [
            "Masukkan tanggal (YYYY-MM-DD): 2023-07-20\n",
            "Prediksi harga Dow Jones pada tanggal 2023-07-20, adalah 33870.3821967477\n"
          ]
        }
      ],
      "source": [
        "# Meminta input tanggal dari pengguna\n",
        "tanggal = input(\"Masukkan tanggal (YYYY-MM-DD): \")\n",
        "inputanTanggal = tanggal\n",
        "\n",
        "# Mengubah format tanggal menjadi array 2 dimensi\n",
        "tanggal = [[int(tanggal.replace(\"-\",\"\"))]]\n",
        "\n",
        "# Membuat prediksi harga Dow Jones\n",
        "y_pred = regressor.predict(tanggal)\n",
        "\n",
        "# Menampilkan hasil prediksi\n",
        "print(f\"Prediksi harga Dow Jones pada tanggal {inputanTanggal}, adalah {y_pred[0]}\")"
      ]
    },
    {
      "cell_type": "markdown",
      "metadata": {
        "id": "yq6f8EiFOtH4"
      },
      "source": [
        "# Menyimpan Model Menggunakan Pickle"
      ]
    },
    {
      "cell_type": "code",
      "execution_count": 6,
      "metadata": {
        "id": "f6zNeWnTLxIW"
      },
      "outputs": [],
      "source": [
        "import pickle\n",
        "\n",
        "with open('prediksidji_pickle','wb') as r:\n",
        "  pickle.dump(regressor,r)"
      ]
    },
    {
      "cell_type": "markdown",
      "source": [
        "Uji coba model yang disimpan"
      ],
      "metadata": {
        "id": "GFVRKehNmZdJ"
      }
    },
    {
      "cell_type": "code",
      "execution_count": 7,
      "metadata": {
        "id": "IeUNEYXTNGkq"
      },
      "outputs": [],
      "source": [
        "with open('prediksidji_pickle','rb') as r:\n",
        "  pred_dji_pickle = pickle.load(r)"
      ]
    },
    {
      "cell_type": "code",
      "execution_count": 8,
      "metadata": {
        "colab": {
          "base_uri": "https://localhost:8080/"
        },
        "id": "1r0xjGxqNt3y",
        "outputId": "7f2a5d65-f453-4542-9723-1e5af2e57587"
      },
      "outputs": [
        {
          "output_type": "stream",
          "name": "stdout",
          "text": [
            "Masukkan tanggal (YYYY-MM-DD): 2023-07-20\n",
            "Prediksi harga Dow Jones pada tanggal 2023-07-20, adalah 33870.3821967477\n"
          ]
        }
      ],
      "source": [
        "# Meminta input tanggal dari pengguna\n",
        "tanggal = input(\"Masukkan tanggal (YYYY-MM-DD): \")\n",
        "inputanTanggal = tanggal\n",
        "\n",
        "# Mengubah format tanggal menjadi array 2 dimensi\n",
        "tanggal = [[int(tanggal.replace(\"-\",\"\"))]]\n",
        "\n",
        "# Membuat prediksi harga Dow Jones\n",
        "y_pred = pred_dji_pickle.predict(tanggal)\n",
        "\n",
        "# Menampilkan hasil prediksi\n",
        "print(f\"Prediksi harga Dow Jones pada tanggal {inputanTanggal}, adalah {y_pred[0]}\")"
      ]
    },
    {
      "cell_type": "markdown",
      "metadata": {
        "id": "sAFcXvJ3O1c3"
      },
      "source": [
        "# Menyimpan Model Menggunakan Joblib"
      ]
    },
    {
      "cell_type": "code",
      "execution_count": 9,
      "metadata": {
        "colab": {
          "base_uri": "https://localhost:8080/"
        },
        "id": "Ojj0NtGrOyb0",
        "outputId": "a6c61ded-4972-4a99-87b7-601914655653"
      },
      "outputs": [
        {
          "output_type": "execute_result",
          "data": {
            "text/plain": [
              "['preddji_joblib']"
            ]
          },
          "metadata": {},
          "execution_count": 9
        }
      ],
      "source": [
        "import joblib\n",
        "\n",
        "joblib.dump(regressor, 'preddji_joblib')"
      ]
    },
    {
      "cell_type": "markdown",
      "source": [
        "Uji coba model yang disimpan"
      ],
      "metadata": {
        "id": "xydfg-v4mRMz"
      }
    },
    {
      "cell_type": "code",
      "execution_count": 10,
      "metadata": {
        "id": "5uTWcuD_PdmM"
      },
      "outputs": [],
      "source": [
        "preddji = joblib.load('preddji_joblib')"
      ]
    },
    {
      "cell_type": "code",
      "execution_count": 11,
      "metadata": {
        "colab": {
          "base_uri": "https://localhost:8080/"
        },
        "outputId": "a8c626b6-e8ca-4860-ae0a-b18ca61837ae",
        "id": "7POBSVQtQ-HG"
      },
      "outputs": [
        {
          "output_type": "stream",
          "name": "stdout",
          "text": [
            "Masukkan tanggal (YYYY-MM-DD): 2023-07-20\n",
            "Prediksi harga Dow Jones pada tanggal 2023-07-20, adalah 33870.3821967477\n"
          ]
        }
      ],
      "source": [
        "# Meminta input tanggal dari pengguna\n",
        "tanggal = input(\"Masukkan tanggal (YYYY-MM-DD): \")\n",
        "inputanTanggal = tanggal\n",
        "\n",
        "# Mengubah format tanggal menjadi array 2 dimensi\n",
        "tanggal = [[int(tanggal.replace(\"-\",\"\"))]]\n",
        "\n",
        "# Membuat prediksi harga Dow Jones\n",
        "y_pred = preddji.predict(tanggal)\n",
        "\n",
        "# Menampilkan hasil prediksi\n",
        "print(f\"Prediksi harga Dow Jones pada tanggal {inputanTanggal}, adalah {y_pred[0]}\")"
      ]
    }
  ],
  "metadata": {
    "colab": {
      "collapsed_sections": [
        "yq6f8EiFOtH4"
      ],
      "provenance": []
    },
    "kernelspec": {
      "display_name": "Python 3",
      "name": "python3"
    },
    "language_info": {
      "name": "python"
    }
  },
  "nbformat": 4,
  "nbformat_minor": 0
}